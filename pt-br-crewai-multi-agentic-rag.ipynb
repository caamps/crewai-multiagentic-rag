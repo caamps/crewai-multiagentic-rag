{
  "cells": [
    {
      "cell_type": "markdown",
      "source": [
        "# Agentic RAG: Implementação utilizando CrewAI\n",
        "\n",
        "Agentic RAG é a implementação de um processo de RAG baseado em **agentes**. A capacidade de raciocínio e tomada de decisão dos agentes, geralmente construídos na arquitetura ReAct, pode melhorar significativamente o processo em relação ao RAG padrão. Algumas vantagens dessa estratégia são:\n",
        "\n",
        "* **Flexibilidade nas fontes de dados:** Os agentes têm a capacidade de entender profundamente a necessidade e trabalhar com múltiplas fontes de dados, sejam dados textuais estáticos, bancos relacionais ou até mesmo a internet.\n",
        "* **Resolução de erros:** Os agentes podem lidar com problemas de forma efetiva, automatizando retries, mudando estratégias e pedindo esclarecimentos ao usuário.\n",
        "* **Contexto:** Em um RAG agêntico, há a consideração de interações anteriores e a manutenção de uma conversação humanizada e satisfatória.\n",
        "\n",
        "Este notebook demonstra o processo de criação de um RAG agêntico utilizando o CrewAI como orquestrador, além de algumas ferramentas do LangChain.\n",
        "\n",
        "O resultado final é um chat que pode ser utilizado como apoio para funcionários da área de suporte técnico de uma empresa. Nele, é possível consultar informações sobre tickets no sistema (por meio de um banco de dados SQL) ou orientações sobre como lidar com certos problemas ou situações (por meio de um manual PDF)."
      ],
      "metadata": {
        "id": "4V84huUNqqmj"
      }
    },
    {
      "cell_type": "markdown",
      "source": [
        "## 1 - Importando as bibliotecas necessárias\n",
        "\n",
        "As bibliotecas utilizadas neste projeto são:\n",
        "\n",
        "* **CrewAI**: Framework para a construção de sistemas multi-agênticos. Permite criar agentes, designar tarefas e montar agentes em uma equipe para realizar as tarefas por meio das ferramentas disponibilizadas.\n",
        "\n",
        "* **LangChain**: Framework com diversas aplicações no contexto das LLMs. Neste projeto, foi utilizado para disponibilizar ferramentas à equipe do CrewAI. O SQL Database Toolkit permite a interação com bancos de dados, e o FAISS é uma base vetorial na memória que permite RAG semântico em texto. Além disso, a integração do LangChain com o AWS Bedrock foi utilizada para definir a LLM (Claude 3.5 Sonnet) e o modelo de vetorização.\n",
        "\n",
        "* **Pandas**: Utilizado para ler o arquivo CSV que contém os dados dos tickets.\n",
        "\n",
        "* **sqlite3**: Utilizado para criar um banco de dados temporário com base no arquivo CSV."
      ],
      "metadata": {
        "id": "H9Tc5Kl_vF2Z"
      }
    },
    {
      "cell_type": "markdown",
      "source": [],
      "metadata": {
        "id": "XPDsBGWit5xa"
      }
    },
    {
      "cell_type": "code",
      "execution_count": null,
      "metadata": {
        "id": "QtkRsmEVqR1o"
      },
      "outputs": [],
      "source": [
        "from crewai import Agent, Task, Crew\n",
        "from crewai.tasks.conditional_task import ConditionalTask\n",
        "import sqlite3\n",
        "from langchain_community.utilities.sql_database import SQLDatabase\n",
        "from langchain_community.agent_toolkits.sql.toolkit import SQLDatabaseToolkit\n",
        "import pandas as pd\n",
        "from langchain_aws import ChatBedrock\n",
        "from crewai_tools import tool\n",
        "from langchain_community.embeddings import BedrockEmbeddings\n",
        "from langchain_community.document_loaders import PyPDFLoader\n",
        "from langchain_text_splitters import RecursiveCharacterTextSplitter\n",
        "from langchain_community.vectorstores import FAISS\n",
        "from crewai.tasks.task_output import TaskOutput\n",
        "from pydantic import BaseModel\n",
        "from IPython.display import display"
      ]
    },
    {
      "cell_type": "markdown",
      "source": [
        "## 2 - Criando o banco de dados\n",
        "\n",
        "Para simular um banco de dados contendo informações sobre tickets em um sistema, foi utilizado o seguinte dataset, disponível publicamente no Kaggle:\n",
        "\n",
        "[Customer Support Ticket Dataset](https://www.kaggle.com/datasets/suraj520/customer-support-ticket-dataset)\n",
        "\n",
        "Esta célula realiza as seguintes operações:\n",
        "\n",
        "1. Lê o arquivo CSV do dataset.\n",
        "2. Cria um banco de dados temporário do SQLite3.\n",
        "3. Insere os dados do arquivo CSV como uma tabela no banco de dados."
      ],
      "metadata": {
        "id": "zT1wAcdwxESY"
      }
    },
    {
      "cell_type": "code",
      "execution_count": null,
      "metadata": {
        "id": "VQaJECGHqR1r",
        "outputId": "c3793db1-24d3-499f-8a72-b428a88e920f"
      },
      "outputs": [
        {
          "data": {
            "text/html": [
              "<div>\n",
              "<style scoped>\n",
              "    .dataframe tbody tr th:only-of-type {\n",
              "        vertical-align: middle;\n",
              "    }\n",
              "\n",
              "    .dataframe tbody tr th {\n",
              "        vertical-align: top;\n",
              "    }\n",
              "\n",
              "    .dataframe thead th {\n",
              "        text-align: right;\n",
              "    }\n",
              "</style>\n",
              "<table border=\"1\" class=\"dataframe\">\n",
              "  <thead>\n",
              "    <tr style=\"text-align: right;\">\n",
              "      <th></th>\n",
              "      <th>Ticket ID</th>\n",
              "      <th>Customer Name</th>\n",
              "      <th>Customer Email</th>\n",
              "      <th>Customer Age</th>\n",
              "      <th>Customer Gender</th>\n",
              "      <th>Product Purchased</th>\n",
              "      <th>Date of Purchase</th>\n",
              "      <th>Ticket Type</th>\n",
              "      <th>Ticket Subject</th>\n",
              "      <th>Ticket Description</th>\n",
              "      <th>Ticket Status</th>\n",
              "      <th>Resolution</th>\n",
              "      <th>Ticket Priority</th>\n",
              "      <th>Ticket Channel</th>\n",
              "      <th>First Response Time</th>\n",
              "      <th>Time to Resolution</th>\n",
              "      <th>Customer Satisfaction Rating</th>\n",
              "    </tr>\n",
              "  </thead>\n",
              "  <tbody>\n",
              "    <tr>\n",
              "      <th>0</th>\n",
              "      <td>1</td>\n",
              "      <td>Marisa Obrien</td>\n",
              "      <td>carrollallison@example.com</td>\n",
              "      <td>32</td>\n",
              "      <td>Other</td>\n",
              "      <td>GoPro Hero</td>\n",
              "      <td>2021-03-22</td>\n",
              "      <td>Technical issue</td>\n",
              "      <td>Product setup</td>\n",
              "      <td>I'm having an issue with the {product_purchase...</td>\n",
              "      <td>Pending Customer Response</td>\n",
              "      <td>NaN</td>\n",
              "      <td>Critical</td>\n",
              "      <td>Social media</td>\n",
              "      <td>2023-06-01 12:15:36</td>\n",
              "      <td>NaN</td>\n",
              "      <td>NaN</td>\n",
              "    </tr>\n",
              "    <tr>\n",
              "      <th>1</th>\n",
              "      <td>2</td>\n",
              "      <td>Jessica Rios</td>\n",
              "      <td>clarkeashley@example.com</td>\n",
              "      <td>42</td>\n",
              "      <td>Female</td>\n",
              "      <td>LG Smart TV</td>\n",
              "      <td>2021-05-22</td>\n",
              "      <td>Technical issue</td>\n",
              "      <td>Peripheral compatibility</td>\n",
              "      <td>I'm having an issue with the {product_purchase...</td>\n",
              "      <td>Pending Customer Response</td>\n",
              "      <td>NaN</td>\n",
              "      <td>Critical</td>\n",
              "      <td>Chat</td>\n",
              "      <td>2023-06-01 16:45:38</td>\n",
              "      <td>NaN</td>\n",
              "      <td>NaN</td>\n",
              "    </tr>\n",
              "    <tr>\n",
              "      <th>2</th>\n",
              "      <td>3</td>\n",
              "      <td>Christopher Robbins</td>\n",
              "      <td>gonzalestracy@example.com</td>\n",
              "      <td>48</td>\n",
              "      <td>Other</td>\n",
              "      <td>Dell XPS</td>\n",
              "      <td>2020-07-14</td>\n",
              "      <td>Technical issue</td>\n",
              "      <td>Network problem</td>\n",
              "      <td>I'm facing a problem with my {product_purchase...</td>\n",
              "      <td>Closed</td>\n",
              "      <td>Case maybe show recently my computer follow.</td>\n",
              "      <td>Low</td>\n",
              "      <td>Social media</td>\n",
              "      <td>2023-06-01 11:14:38</td>\n",
              "      <td>2023-06-01 18:05:38</td>\n",
              "      <td>3.0</td>\n",
              "    </tr>\n",
              "    <tr>\n",
              "      <th>3</th>\n",
              "      <td>4</td>\n",
              "      <td>Christina Dillon</td>\n",
              "      <td>bradleyolson@example.org</td>\n",
              "      <td>27</td>\n",
              "      <td>Female</td>\n",
              "      <td>Microsoft Office</td>\n",
              "      <td>2020-11-13</td>\n",
              "      <td>Billing inquiry</td>\n",
              "      <td>Account access</td>\n",
              "      <td>I'm having an issue with the {product_purchase...</td>\n",
              "      <td>Closed</td>\n",
              "      <td>Try capital clearly never color toward story.</td>\n",
              "      <td>Low</td>\n",
              "      <td>Social media</td>\n",
              "      <td>2023-06-01 07:29:40</td>\n",
              "      <td>2023-06-01 01:57:40</td>\n",
              "      <td>3.0</td>\n",
              "    </tr>\n",
              "    <tr>\n",
              "      <th>4</th>\n",
              "      <td>5</td>\n",
              "      <td>Alexander Carroll</td>\n",
              "      <td>bradleymark@example.com</td>\n",
              "      <td>67</td>\n",
              "      <td>Female</td>\n",
              "      <td>Autodesk AutoCAD</td>\n",
              "      <td>2020-02-04</td>\n",
              "      <td>Billing inquiry</td>\n",
              "      <td>Data loss</td>\n",
              "      <td>I'm having an issue with the {product_purchase...</td>\n",
              "      <td>Closed</td>\n",
              "      <td>West decision evidence bit.</td>\n",
              "      <td>Low</td>\n",
              "      <td>Email</td>\n",
              "      <td>2023-06-01 00:12:42</td>\n",
              "      <td>2023-06-01 19:53:42</td>\n",
              "      <td>1.0</td>\n",
              "    </tr>\n",
              "  </tbody>\n",
              "</table>\n",
              "</div>"
            ],
            "text/plain": [
              "   Ticket ID        Customer Name              Customer Email  Customer Age  \\\n",
              "0          1        Marisa Obrien  carrollallison@example.com            32   \n",
              "1          2         Jessica Rios    clarkeashley@example.com            42   \n",
              "2          3  Christopher Robbins   gonzalestracy@example.com            48   \n",
              "3          4     Christina Dillon    bradleyolson@example.org            27   \n",
              "4          5    Alexander Carroll     bradleymark@example.com            67   \n",
              "\n",
              "  Customer Gender Product Purchased Date of Purchase      Ticket Type  \\\n",
              "0           Other        GoPro Hero       2021-03-22  Technical issue   \n",
              "1          Female       LG Smart TV       2021-05-22  Technical issue   \n",
              "2           Other          Dell XPS       2020-07-14  Technical issue   \n",
              "3          Female  Microsoft Office       2020-11-13  Billing inquiry   \n",
              "4          Female  Autodesk AutoCAD       2020-02-04  Billing inquiry   \n",
              "\n",
              "             Ticket Subject  \\\n",
              "0             Product setup   \n",
              "1  Peripheral compatibility   \n",
              "2           Network problem   \n",
              "3            Account access   \n",
              "4                 Data loss   \n",
              "\n",
              "                                  Ticket Description  \\\n",
              "0  I'm having an issue with the {product_purchase...   \n",
              "1  I'm having an issue with the {product_purchase...   \n",
              "2  I'm facing a problem with my {product_purchase...   \n",
              "3  I'm having an issue with the {product_purchase...   \n",
              "4  I'm having an issue with the {product_purchase...   \n",
              "\n",
              "               Ticket Status                                     Resolution  \\\n",
              "0  Pending Customer Response                                            NaN   \n",
              "1  Pending Customer Response                                            NaN   \n",
              "2                     Closed   Case maybe show recently my computer follow.   \n",
              "3                     Closed  Try capital clearly never color toward story.   \n",
              "4                     Closed                    West decision evidence bit.   \n",
              "\n",
              "  Ticket Priority Ticket Channel  First Response Time   Time to Resolution  \\\n",
              "0        Critical   Social media  2023-06-01 12:15:36                  NaN   \n",
              "1        Critical           Chat  2023-06-01 16:45:38                  NaN   \n",
              "2             Low   Social media  2023-06-01 11:14:38  2023-06-01 18:05:38   \n",
              "3             Low   Social media  2023-06-01 07:29:40  2023-06-01 01:57:40   \n",
              "4             Low          Email  2023-06-01 00:12:42  2023-06-01 19:53:42   \n",
              "\n",
              "   Customer Satisfaction Rating  \n",
              "0                           NaN  \n",
              "1                           NaN  \n",
              "2                           3.0  \n",
              "3                           3.0  \n",
              "4                           1.0  "
            ]
          },
          "metadata": {},
          "output_type": "display_data"
        },
        {
          "name": "stdout",
          "output_type": "stream",
          "text": [
            "Database connection and table creation successful.\n"
          ]
        }
      ],
      "source": [
        "csv_file_path = 'customer_support_tickets.csv'\n",
        "db_file_path = 'tickets.db'\n",
        "db_uri = f\"sqlite:///{db_file_path}\"\n",
        "\n",
        "df = pd.read_csv(csv_file_path)\n",
        "display(df.head(5))\n",
        "\n",
        "with sqlite3.connect(db_file_path) as conn:\n",
        "    df.to_sql('Tickets', conn, if_exists='replace', index=False)\n",
        "\n",
        "db = SQLDatabase.from_uri(db_uri)\n",
        "print(\"Database connection and table creation successful.\")\n"
      ]
    },
    {
      "cell_type": "markdown",
      "source": [
        "## 3 - Disponibilizando a LLM e criando ferramenta de queries SQL\n",
        "\n",
        "Neste projeto, foi utilizado o AWS Bedrock como provedor da LLM. O modelo escolhido foi o Anthropic Claude 3.5 Sonnet, devido à sua alta capacidade de lidar com problemas complexos. O método `ChatBedrock` do `langchain-aws` define a LLM.\n",
        "\n",
        "No CrewAI, é possível disponibilizar ferramentas para os agentes. Essas ferramentas podem ser nativas ou importadas do LangChain ou LlamaIndex. Foi utilizado o SQL Database Toolkit do LangChain para que os agentes pudessem interagir com o banco de dados."
      ],
      "metadata": {
        "id": "2MFP7dz5yEvJ"
      }
    },
    {
      "cell_type": "code",
      "execution_count": null,
      "metadata": {
        "id": "hCnpyHxsqR1s",
        "outputId": "172b7ba2-e1be-4b16-f355-c5dbe5a05471"
      },
      "outputs": [
        {
          "data": {
            "text/plain": [
              "[QuerySQLDataBaseTool(description=\"Input to this tool is a detailed and correct SQL query, output is a result from the database. If the query is not correct, an error message will be returned. If an error is returned, rewrite the query, check the query, and try again. If you encounter an issue with Unknown column 'xxxx' in 'field list', use sql_db_schema to query the correct table fields.\", db=<langchain_community.utilities.sql_database.SQLDatabase object at 0x0000019893725940>),\n",
              " InfoSQLDatabaseTool(description='Input to this tool is a comma-separated list of tables, output is the schema and sample rows for those tables. Be sure that the tables actually exist by calling sql_db_list_tables first! Example Input: table1, table2, table3', db=<langchain_community.utilities.sql_database.SQLDatabase object at 0x0000019893725940>),\n",
              " ListSQLDatabaseTool(db=<langchain_community.utilities.sql_database.SQLDatabase object at 0x0000019893725940>),\n",
              " QuerySQLCheckerTool(description='Use this tool to double check if your query is correct before executing it. Always use this tool before executing a query with sql_db_query!', db=<langchain_community.utilities.sql_database.SQLDatabase object at 0x0000019893725940>, llm=ChatBedrock(client=<botocore.client.BedrockRuntime object at 0x00000198D27586B0>, region_name='us-east-1', model_id='anthropic.claude-3-5-sonnet-20240620-v1:0'), llm_chain=LLMChain(prompt=PromptTemplate(input_variables=['dialect', 'query'], template='\\n{query}\\nDouble check the {dialect} query above for common mistakes, including:\\n- Using NOT IN with NULL values\\n- Using UNION when UNION ALL should have been used\\n- Using BETWEEN for exclusive ranges\\n- Data type mismatch in predicates\\n- Properly quoting identifiers\\n- Using the correct number of arguments for functions\\n- Casting to the correct data type\\n- Using the proper columns for joins\\n\\nIf there are any of the above mistakes, rewrite the query. If there are no mistakes, just reproduce the original query.\\n\\nOutput the final SQL query only.\\n\\nSQL Query: '), llm=ChatBedrock(client=<botocore.client.BedrockRuntime object at 0x00000198D27586B0>, region_name='us-east-1', model_id='anthropic.claude-3-5-sonnet-20240620-v1:0')))]"
            ]
          },
          "execution_count": 38,
          "metadata": {},
          "output_type": "execute_result"
        }
      ],
      "source": [
        "llm = ChatBedrock(model_id=\"anthropic.claude-3-5-sonnet-20240620-v1:0\")\n",
        "toolkit = SQLDatabaseToolkit(db=db, llm=llm)\n",
        "toolkit.get_tools()"
      ]
    },
    {
      "cell_type": "markdown",
      "source": [
        "## 4 - Criando base vetorial\n",
        "\n",
        "Uma base vetorial permite armazenar documentos vetorizados e realizar uma busca nesses documentos por meio de similaridade de vetores. Esta célula insere o documento \"manual.pdf\" na base com os seguintes passos:\n",
        "\n",
        "1. Inicializa o modelo de vetorização.\n",
        "2. Carrega o PDF por meio do `PyPDFLoader` do LangChain.\n",
        "3. Divide o PDF em chunks por meio do text splitter do LangChain. Essa divisão separa o arquivo em partes menores, otimizando o futuro processo do RAG.\n",
        "4. Vetoriza os chunks do documento e os armazena em uma base vetorial FAISS.\n",
        "5. Testa a capacidade de retrieval da base vetorial."
      ],
      "metadata": {
        "id": "v9oPA0ESzmX3"
      }
    },
    {
      "cell_type": "code",
      "execution_count": null,
      "metadata": {
        "id": "_SXshNvPqR1t",
        "outputId": "b6efb183-bada-45e0-e958-740502f675ea"
      },
      "outputs": [
        {
          "data": {
            "text/plain": [
              "[Document(metadata={'source': 'manual.pdf', 'page': 12}, page_content='Escalation:  \\n- Persistent training issues should be escalated to the Machine Learning \\nEngineering team  \\n \\n3.9 Billing and Invoice Discrepancies  \\nDescription: Users report incorrect charges, missing credits, or unclear invoice \\nitems.  \\n \\nTroubleshooting steps:'),\n",
              " Document(metadata={'source': 'manual.pdf', 'page': 11}, page_content=\"Troubleshooting steps:  \\na) Identify the user's browser, version, and operating system  \\nb) Reproduce the issue in multiple environments  \\nc) Check for JavaScript console errors  \\nd) Review recent frontend deployments  \\ne) Verify CSS and asset loading  \\n \\nResolution:  \\n- Provide browser -specific troubleshooting steps (cache clearing, etc.)  \\n- Offer alternative browsers or versions known to work  \\n- Apply hotfixes for confirmed bugs  \\n \\nEscalation:  \\n- Report reproducible UI bugs to the Frontend Development team  \\n \\n3.7 Account Management Issues  \\nDescription: Users unable to modify account settings, add team members, or \\nadjust subscription plans.  \\n \\nTroubleshooting steps:  \\na) Verify user's account permissions and role  \\nb) Check for any account holds or payment issues  \\nc) Review recent changes to account management systems  \\nd) Confirm the specific action being attempted is allowed under the user's plan  \\n \\nResolution:\"),\n",
              " Document(metadata={'source': 'manual.pdf', 'page': 4}, page_content='6.4 Update CRM and Systems  \\n- Mark account as cancelled in all relevant systems  \\n- Update sales and marketing lists to prevent unnecessary contact  \\n \\n7. Feedback Loop  \\n \\n7.1 Internal Reporting  \\n- Compile weekly cancellation reason reports  \\n- Share insights with product, sales, and marketing teams  \\n \\n7.2 Trend Analysis  \\n- Monitor cancellation rates and reasons over time  \\n- Identify patterns that may indicate larger issues  \\n \\n7.3 Continuous Improvement  \\n- Participate in regular reviews of cancellation processes  \\n- Suggest improvements based on customer feedback and experiences  \\n \\n8. Special Considerations  \\n \\n8.1 High -Value Accounts  \\n- Involve account managers in retention efforts  \\n- Consider escalation to senior management for personalized offers  \\n \\n8.2 Long -Term Customers  \\n- Acknowledge their loyalty in communications  \\n- Offer \"alumni\" status with special reactivation terms  \\n \\n8.3 Public or High -Profile Clients'),\n",
              " Document(metadata={'source': 'manual.pdf', 'page': 13}, page_content=\"a) Review the user's usage logs and compare with invoiced amounts  \\nb) Check for any applied discounts or promotions  \\nc) Verify the correct subscription plan is applied to the account  \\nd) Confirm any recent plan changes or upgrades  \\n \\nResolution:  \\n- Explain each line item on the invoice in detail  \\n- Apply corrections or credits if errors are found  \\n- Provide a detailed usage report for the billing period  \\n \\nEscalation:  \\n- Complex billing issues or disputes should be escalated to the Finance team  \\n \\n3.10 API Rate Limiting Issues  \\nDescription: Users hit API rate limits unexpectedly or more frequently than \\nanticipated.  \\n \\nTroubleshooting steps:  \\na) Review the user's current API usage patterns  \\nb) Check if there have been any recent changes to rate limit policies  \\nc) Verify that the user is implementing proper rate limiting on their end  \\nd) Investigate any unusual spikes in API calls  \\n \\nResolution:  \\n- Explain current rate limit policies and reason for limits\")]"
            ]
          },
          "execution_count": 39,
          "metadata": {},
          "output_type": "execute_result"
        }
      ],
      "source": [
        "# 1\n",
        "embeddings = BedrockEmbeddings()\n",
        "\n",
        "# 2\n",
        "loader = PyPDFLoader(\"manual.pdf\")\n",
        "docs = loader.load()\n",
        "\n",
        "# 3\n",
        "text_splitter = RecursiveCharacterTextSplitter(chunk_size=1000, chunk_overlap=200)\n",
        "splits = text_splitter.split_documents(docs)\n",
        "\n",
        "# 4\n",
        "db = FAISS.from_documents(splits, embeddings)\n",
        "retriever = db.as_retriever()\n",
        "\n",
        "# 5\n",
        "relevant_docs = retriever.invoke(input=\"What to do when the user reports missing credits?\")\n",
        "relevant_docs"
      ]
    },
    {
      "cell_type": "markdown",
      "source": [
        "## 5 - Criando ferramenta de busca vetorial\n",
        "\n",
        "No CrewAI, também é possível criar ferramentas personalizadas. Embora já exista uma ferramenta nativa do CrewAI para busca vetorizada em PDFs, até o momento do desenvolvimento deste projeto, não havia integração com os modelos de vetorização da AWS. Portanto, foi criada uma ferramenta personalizada que utiliza a base vetorial previamente criada para retornar passagens úteis dos documentos armazenados na base, de acordo com a pergunta de input."
      ],
      "metadata": {
        "id": "GNV9JNHs1UjP"
      }
    },
    {
      "cell_type": "code",
      "execution_count": null,
      "metadata": {
        "id": "OGpTMxuKqR1t"
      },
      "outputs": [],
      "source": [
        "@tool(\"SearchPDFTool\")\n",
        "def SearchPDFTool(question: str) -> str:\n",
        "    \"\"\"This tool takes a question and returns relevant chunks from the provided PDF that may be useful to answer the question.\"\"\"\n",
        "    documents = retriever.invoke(input=question)\n",
        "    return str(documents)"
      ]
    },
    {
      "cell_type": "markdown",
      "source": [
        "## 6 - Criando os agentes\n",
        "\n",
        "Um agente do CrewAI pode ter os seguintes atributos:\n",
        "\n",
        "* **Role**: O papel do agente.\n",
        "* **Goal**: O objetivo a ser cumprido.\n",
        "* **Backstory**: Descrição mais detalhada das responsabilidades e capacidades do agente.\n",
        "* **Tools**: Uma lista de ferramentas que podem ser utilizadas.\n",
        "\n",
        "Neste projeto, foram concebidos 2 agentes:\n",
        "\n",
        "1. **Senior Data Retriever**: Trabalha diretamente com as fontes de dados.\n",
        "2. **Internal Support Specialist**: Interage diretamente com o usuário.\n",
        "\n",
        "Ambos os agentes colaboram para atingir os objetivos do processo."
      ],
      "metadata": {
        "id": "5HJ-Plh811uI"
      }
    },
    {
      "cell_type": "code",
      "execution_count": null,
      "metadata": {
        "id": "HwvES_77qR1t"
      },
      "outputs": [],
      "source": [
        "retriever_agent = Agent(\n",
        "    role='Senior Data Retriever',\n",
        "    goal='Based on a question, retrieve and select the raw data that can be useful for answering the question.',\n",
        "    backstory=\n",
        "    'An experienced data retriever that has deep uderstanding of its companys database and text files, able to find and retrieve the data that can be used to answer any question in the companys context. Always adopts the strategy of querying first the data source thats more likely to have useful information. If that query result is already enough to answer the question, does not query any other data sources, as to get his job done faster. If not, queries the nex data source, and so on.',\n",
        "    tools=[SearchPDFTool, *toolkit.get_tools()],\n",
        "    verbose=True,\n",
        "    llm=llm)\n",
        "\n",
        "writer_agent = Agent(\n",
        "    role='Internal Support Specialist',\n",
        "    goal='Handle the conversation with the employee, interpreting the employees request and answering the request with the available data. Dont answer questions that dont fit into the internal support context.',\n",
        "    backstory=\n",
        "    'An experienced support specialist that knows exactly how to interpret the conversation with the employee, use the data available to answer questions and deal with conversations. Likes to be sympathetic but avoids overwriting and goes straight to the point.',\n",
        "    verbose=True,\n",
        "    llm=llm)"
      ]
    },
    {
      "cell_type": "markdown",
      "source": [
        "## 7 - Criando as tarefas\n",
        "\n",
        "A próxima etapa é criar tarefas para serem cumpridas pelos agentes. Uma tarefa é definida por uma descrição detalhada, o agente encarregado, o output esperado, entre outros atributos.\n",
        "\n",
        "Para o RAG agêntico, foram concebidas 3 tarefas:\n",
        "\n",
        "1. **summarize_task**:\n",
        "   - Objetivo: Entender o input do usuário.\n",
        "   - Ação: Se for uma pergunta válida dentro do contexto, enviar ao data retriever. Caso contrário, pular para a última tarefa (que responde ao usuário).\n",
        "   - Responsável: Internal Support Specialist.\n",
        "\n",
        "2. **get_data_task**:\n",
        "   - Objetivo: Retornar os dados brutos que podem ser utilizados para responder à pergunta.\n",
        "   - Observação: Esta tarefa é **opcional**. Só será realizada caso o Internal Support Specialist, na tarefa summarize_task, entenda que o input do usuário é uma pergunta válida. Isso evita que o data retriever receba a tarefa de responder a inputs como \"Boa tarde\", por exemplo.\n",
        "   - Responsável: Senior Data Retriever.\n",
        "\n",
        "3. **answer_task**:\n",
        "   - Objetivo: Gerar uma resposta ao usuário.\n",
        "   - Ação: Basear-se na pergunta e nos dados de referência (se existentes) para formular a resposta.\n",
        "   - Responsável: Internal Support Specialist."
      ],
      "metadata": {
        "id": "e0FfUsnx2qUM"
      }
    },
    {
      "cell_type": "code",
      "execution_count": null,
      "metadata": {
        "id": "KcwR1NC1qR1t"
      },
      "outputs": [],
      "source": [
        "def is_question(output: TaskOutput) -> bool:\n",
        "    return len(output.pydantic.answer) > 1\n",
        "\n",
        "class EventOutput(BaseModel):\n",
        "    answer: str\n",
        "\n",
        "summarize_task = Task(\n",
        "    description= \"\"\"Interpret the user's input: \"{question}\". Decide whether to pass the question to the data retriever to get references to answer the question or not. If the user's input is a valid question, output the question. If it isn't, and therefore the data retriever shouldn't be contacted, simply output an empty string.\n",
        "    \"\"\",\n",
        "    agent=writer_agent,\n",
        "    output_pydantic=EventOutput,\n",
        "    expected_output=\"The question, or an empty string if retrieving information is not the case.\")\n",
        "\n",
        "get_data_task = ConditionalTask(\n",
        "    description= \"\"\"Based on the question \"{question}\", decide where to find the data that can be used to answer the question and then retrieve it. The data sources you have access to are:\n",
        "    Support Tickets Database: A database containing information regarding recent or past customer support tickets, accessible through the SQL tools. Used only to query about tickets. Shouldn't be used to get information on how to deal with problems or situations.\n",
        "    Customer Support Manual: A PDF manual containing information on how to deal with common problems, common scenarios etc. Available through the PDF tool. Used for questions on how to deal with situations, what to do etc.\n",
        "    Best practice: Query the data source that is more likely to have information to answer the question first. If the results are already enough, do not query another data source, as to decrease the employee's waiting time.\n",
        "    \"\"\",\n",
        "    agent=retriever_agent,\n",
        "    condition=is_question,\n",
        "    expected_output=\"The raw data that can be used to formulate an answer to the question.\")\n",
        "\n",
        "answer_task = Task(\n",
        "    description= \"\"\"Based on the input \"{question}\", formulate a satisfying answer to the employee. If it is a question and data was retrieved in the get_data_task, the answer should be 100 percent based on the available references, without making up any infomation. If you can't formulate an answer with the available data, or if the input is not a question, simply answer the user in the way you find appropriate.\n",
        "    \"\"\",\n",
        "    agent=writer_agent,\n",
        "    expected_output=\"The answer to the employee, in a direct but sympathetic way.\")"
      ]
    },
    {
      "cell_type": "markdown",
      "source": [
        "##8 - Criando a crew\n",
        "A crew (ou equipe) junta os agentes e as tarefas com o objetivo de gerar um resultado final."
      ],
      "metadata": {
        "id": "qUdZaAnv4NE4"
      }
    },
    {
      "cell_type": "code",
      "execution_count": null,
      "metadata": {
        "id": "KOfPZB7qqR1u",
        "outputId": "94c82d14-cc6a-454b-efbd-11c9046bb21c"
      },
      "outputs": [
        {
          "name": "stderr",
          "output_type": "stream",
          "text": [
            "2024-09-03 17:49:53,266 - 52296 - __init__.py-__init__:538 - WARNING: Overriding of current TracerProvider is not allowed\n"
          ]
        }
      ],
      "source": [
        "crew = Crew(\n",
        "      agents=[\n",
        "        retriever_agent, writer_agent\n",
        "      ],\n",
        "      tasks=[summarize_task, get_data_task, answer_task],\n",
        "      verbose=True\n",
        "    )"
      ]
    },
    {
      "cell_type": "markdown",
      "source": [
        "##9 - Testando o processo"
      ],
      "metadata": {
        "id": "mG1FQ4W34VWb"
      }
    },
    {
      "cell_type": "code",
      "execution_count": null,
      "metadata": {
        "id": "CFmN7t15qR1u",
        "outputId": "3a873305-7325-4978-90b4-9fd6ee442ba0"
      },
      "outputs": [
        {
          "name": "stdout",
          "output_type": "stream",
          "text": [
            "\u001b[1m\u001b[95m [2024-09-03 17:40:11][DEBUG]: == Working Agent: Internal Support Specialist\u001b[00m\n",
            "\u001b[1m\u001b[95m [2024-09-03 17:40:11][INFO]: == Starting Task: Interpret the user's input: \"How many tickets on the GoPro Hero have we got?\". Decide whether to pass the question to the data retriever to get references to answer the question or not. If the user's input is a valid question, output the question. If it isn't, and therefore the data retriever shouldn't be contacted, simply output an empty string.\n",
            "    \u001b[00m\n",
            "\n",
            "\n",
            "\u001b[1m> Entering new CrewAgentExecutor chain...\u001b[0m\n",
            "\u001b[32;1m\u001b[1;3mThought: The user's input is a valid question related to internal support, specifically about ticket volume for a product. This question requires data retrieval, so I should ask the Senior Data Retriever for this information.\n",
            "\n",
            "Action: Ask question to coworker\n",
            "\n",
            "Action Input: {\"question\": \"How many tickets on the GoPro Hero have we got?\", \"context\": \"An employee has asked about the number of tickets related to the GoPro Hero product. We need to retrieve this information from our ticketing system.\", \"coworker\": \"Senior Data Retriever\"}\n",
            "\u001b[0m\n",
            "\n",
            "\u001b[1m> Entering new CrewAgentExecutor chain...\u001b[0m\n",
            "\u001b[32;1m\u001b[1;3mThought: To answer this question about the number of tickets for the GoPro Hero, I'll need to query our ticketing system database. First, I should check what tables are available in our database.\n",
            "\n",
            "Action: sql_db_list_tables\n",
            "Action Input: {\"tool_input\": \"\"}\n",
            "\u001b[0m\u001b[95m \n",
            "\n",
            "Tickets\n",
            "\u001b[00m\n",
            "\u001b[32;1m\u001b[1;3mThought: Now that I know we have a \"Tickets\" table, I should check its schema to see what columns are available and how I can query for GoPro Hero tickets.\n",
            "\n",
            "Action: sql_db_schema\n",
            "Action Input: {\"table_names\": \"Tickets\"}\n",
            "\u001b[0m\u001b[95m \n",
            "\n",
            "\n",
            "CREATE TABLE \"Tickets\" (\n",
            "\t\"Ticket ID\" INTEGER, \n",
            "\t\"Customer Name\" TEXT, \n",
            "\t\"Customer Email\" TEXT, \n",
            "\t\"Customer Age\" INTEGER, \n",
            "\t\"Customer Gender\" TEXT, \n",
            "\t\"Product Purchased\" TEXT, \n",
            "\t\"Date of Purchase\" TEXT, \n",
            "\t\"Ticket Type\" TEXT, \n",
            "\t\"Ticket Subject\" TEXT, \n",
            "\t\"Ticket Description\" TEXT, \n",
            "\t\"Ticket Status\" TEXT, \n",
            "\t\"Resolution\" TEXT, \n",
            "\t\"Ticket Priority\" TEXT, \n",
            "\t\"Ticket Channel\" TEXT, \n",
            "\t\"First Response Time\" TEXT, \n",
            "\t\"Time to Resolution\" TEXT, \n",
            "\t\"Customer Satisfaction Rating\" REAL\n",
            ")\n",
            "\n",
            "/*\n",
            "3 rows from Tickets table:\n",
            "Ticket ID\tCustomer Name\tCustomer Email\tCustomer Age\tCustomer Gender\tProduct Purchased\tDate of Purchase\tTicket Type\tTicket Subject\tTicket Description\tTicket Status\tResolution\tTicket Priority\tTicket Channel\tFirst Response Time\tTime to Resolution\tCustomer Satisfaction Rating\n",
            "1\tMarisa Obrien\tcarrollallison@example.com\t32\tOther\tGoPro Hero\t2021-03-22\tTechnical issue\tProduct setup\tI'm having an issue with the {product_purchased}. Please assist.\n",
            "\n",
            "Your billing zip code is: 71701.\n",
            "\n",
            "\tPending Customer Response\tNone\tCritical\tSocial media\t2023-06-01 12:15:36\tNone\tNone\n",
            "2\tJessica Rios\tclarkeashley@example.com\t42\tFemale\tLG Smart TV\t2021-05-22\tTechnical issue\tPeripheral compatibility\tI'm having an issue with the {product_purchased}. Please assist.\n",
            "\n",
            "If you need to change an existing \tPending Customer Response\tNone\tCritical\tChat\t2023-06-01 16:45:38\tNone\tNone\n",
            "3\tChristopher Robbins\tgonzalestracy@example.com\t48\tOther\tDell XPS\t2020-07-14\tTechnical issue\tNetwork problem\tI'm facing a problem with my {product_purchased}. The {product_purchased} is not turning on. It was \tClosed\tCase maybe show recently my computer follow.\tLow\tSocial media\t2023-06-01 11:14:38\t2023-06-01 18:05:38\t3.0\n",
            "*/\n",
            "\u001b[00m\n",
            "\u001b[32;1m\u001b[1;3mThought: Now that I have the schema for the Tickets table, I can see that the \"Product Purchased\" column is where we need to look for \"GoPro Hero\". I'll create a SQL query to count the number of tickets where the product purchased is \"GoPro Hero\". Before executing the query, I'll use the query checker tool to ensure it's correct.\n",
            "\n",
            "Action: sql_db_query_checker\n",
            "Action Input: {\"query\": \"SELECT COUNT(*) AS gopro_hero_tickets FROM Tickets WHERE \\\"Product Purchased\\\" = 'GoPro Hero'\"}\n",
            "\u001b[0m\u001b[95m \n",
            "\n",
            "SELECT COUNT(*) AS gopro_hero_tickets FROM Tickets WHERE \"Product Purchased\" = 'GoPro Hero'\n",
            "\u001b[00m\n",
            "\u001b[32;1m\u001b[1;3mThought: The query checker has confirmed that our SQL query is correct. Now, let's execute this query to get the count of GoPro Hero tickets.\n",
            "\n",
            "Action: sql_db_query\n",
            "Action Input: {\"query\": \"SELECT COUNT(*) AS gopro_hero_tickets FROM Tickets WHERE \\\"Product Purchased\\\" = 'GoPro Hero'\"}\n",
            "\u001b[0m\u001b[95m \n",
            "\n",
            "[(228,)]\n",
            "\u001b[00m\n",
            "\u001b[32;1m\u001b[1;3mThought: I now have the result of the query, which gives us the count of tickets for the GoPro Hero product. I can now provide the final answer to the original question.\n",
            "\n",
            "Final Answer: We have 228 tickets on the GoPro Hero in our ticketing system.\u001b[0m\n",
            "\n",
            "\u001b[1m> Finished chain.\u001b[0m\n",
            "\u001b[95m \n",
            "\n",
            "We have 228 tickets on the GoPro Hero in our ticketing system.\n",
            "\u001b[00m\n",
            "\u001b[32;1m\u001b[1;3mThought: I now know the final answer\n",
            "\n",
            "Final Answer: How many tickets on the GoPro Hero have we got?\u001b[0m\n",
            "\n",
            "\u001b[1m> Finished chain.\u001b[0m\n",
            "\u001b[93m Error parsing JSON: Expecting value: line 1 column 1 (char 0). Attempting to handle partial JSON.\u001b[00m\n",
            "\u001b[1m\u001b[92m [2024-09-03 17:40:41][DEBUG]: == [Internal Support Specialist] Task output: answer=\"I apologize, but I don't have access to specific inventory information for GoPro Hero tickets or any other product. This kind of detailed sales or stock information would be held internally by the company or organization selling the items. If you need to know the exact number of tickets or products available, you would need to check with the relevant sales department, inventory management system, or authorized retailer directly.\"\n",
            "\n",
            "\u001b[00m\n",
            "\u001b[1m\u001b[95m [2024-09-03 17:40:41][DEBUG]: == Working Agent: Senior Data Retriever\u001b[00m\n",
            "\u001b[1m\u001b[95m [2024-09-03 17:40:41][INFO]: == Starting Task: Based on the question \"How many tickets on the GoPro Hero have we got?\", decide where to find the data that can be used to answer the question and then retrieve it. The data sources you have access to are:\n",
            "    Support Tickets Database: A database containing information regarding recent or past customer support tickets, accessible through the SQL tools. Used only to query about tickets. Shouldn't be used to get information on how to deal with problems or situations.\n",
            "    Customer Support Manual: A PDF manual containing information on how to deal with common problems, common scenarios etc. Available through the PDF tool. Used for questions on how to deal with situations, what to do etc.\n",
            "    Best practice: Query the data source that is more likely to have information to answer the question first. If the results are already enough, avoid querying another data source, as to decrease the employee's waiting time.\n",
            "    \u001b[00m\n",
            "\n",
            "\n",
            "\u001b[1m> Entering new CrewAgentExecutor chain...\u001b[0m\n",
            "\u001b[32;1m\u001b[1;3mThought: To answer the question \"How many tickets on the GoPro Hero have we got?\", we need to query the Support Tickets Database. This is because we're looking for information about tickets, which is typically stored in a database rather than a manual. Let's start by checking the available tables in the database.\n",
            "\n",
            "Action: sql_db_list_tables\n",
            "Action Input: {\"tool_input\": \"\"}\n",
            "\u001b[0m\u001b[95m \n",
            "\n",
            "Tickets\n",
            "\u001b[00m\n",
            "\u001b[32;1m\u001b[1;3mThought: Great, we have a \"Tickets\" table. Now, let's check the schema of this table to understand what columns are available and how we can query for GoPro Hero tickets.\n",
            "\n",
            "Action: sql_db_schema\n",
            "Action Input: {\"table_names\": \"Tickets\"}\n",
            "\u001b[0m\u001b[95m \n",
            "\n",
            "\n",
            "CREATE TABLE \"Tickets\" (\n",
            "\t\"Ticket ID\" INTEGER, \n",
            "\t\"Customer Name\" TEXT, \n",
            "\t\"Customer Email\" TEXT, \n",
            "\t\"Customer Age\" INTEGER, \n",
            "\t\"Customer Gender\" TEXT, \n",
            "\t\"Product Purchased\" TEXT, \n",
            "\t\"Date of Purchase\" TEXT, \n",
            "\t\"Ticket Type\" TEXT, \n",
            "\t\"Ticket Subject\" TEXT, \n",
            "\t\"Ticket Description\" TEXT, \n",
            "\t\"Ticket Status\" TEXT, \n",
            "\t\"Resolution\" TEXT, \n",
            "\t\"Ticket Priority\" TEXT, \n",
            "\t\"Ticket Channel\" TEXT, \n",
            "\t\"First Response Time\" TEXT, \n",
            "\t\"Time to Resolution\" TEXT, \n",
            "\t\"Customer Satisfaction Rating\" REAL\n",
            ")\n",
            "\n",
            "/*\n",
            "3 rows from Tickets table:\n",
            "Ticket ID\tCustomer Name\tCustomer Email\tCustomer Age\tCustomer Gender\tProduct Purchased\tDate of Purchase\tTicket Type\tTicket Subject\tTicket Description\tTicket Status\tResolution\tTicket Priority\tTicket Channel\tFirst Response Time\tTime to Resolution\tCustomer Satisfaction Rating\n",
            "1\tMarisa Obrien\tcarrollallison@example.com\t32\tOther\tGoPro Hero\t2021-03-22\tTechnical issue\tProduct setup\tI'm having an issue with the {product_purchased}. Please assist.\n",
            "\n",
            "Your billing zip code is: 71701.\n",
            "\n",
            "\tPending Customer Response\tNone\tCritical\tSocial media\t2023-06-01 12:15:36\tNone\tNone\n",
            "2\tJessica Rios\tclarkeashley@example.com\t42\tFemale\tLG Smart TV\t2021-05-22\tTechnical issue\tPeripheral compatibility\tI'm having an issue with the {product_purchased}. Please assist.\n",
            "\n",
            "If you need to change an existing \tPending Customer Response\tNone\tCritical\tChat\t2023-06-01 16:45:38\tNone\tNone\n",
            "3\tChristopher Robbins\tgonzalestracy@example.com\t48\tOther\tDell XPS\t2020-07-14\tTechnical issue\tNetwork problem\tI'm facing a problem with my {product_purchased}. The {product_purchased} is not turning on. It was \tClosed\tCase maybe show recently my computer follow.\tLow\tSocial media\t2023-06-01 11:14:38\t2023-06-01 18:05:38\t3.0\n",
            "*/\n",
            "\u001b[00m\n",
            "\u001b[32;1m\u001b[1;3mThought: Now that we have the schema and sample data from the Tickets table, we can see that the \"Product Purchased\" column is where we need to look for \"GoPro Hero\" tickets. Let's create a SQL query to count the number of tickets for GoPro Hero products. We'll use the sql_db_query_checker first to ensure our query is correct.\n",
            "\n",
            "Action: sql_db_query_checker\n",
            "Action Input: {\"query\": \"SELECT COUNT(*) as GoPro_Hero_Tickets FROM Tickets WHERE \\\"Product Purchased\\\" = 'GoPro Hero'\"}\n",
            "\u001b[0m\u001b[95m \n",
            "\n",
            "SELECT COUNT(*) as GoPro_Hero_Tickets FROM Tickets WHERE \"Product Purchased\" = 'GoPro Hero'\n",
            "\u001b[00m\n",
            "\u001b[32;1m\u001b[1;3mThought: The query checker has confirmed that our SQL query is correct. Now we can execute this query to get the count of GoPro Hero tickets.\n",
            "\n",
            "Action: sql_db_query\n",
            "Action Input: {\"query\": \"SELECT COUNT(*) as GoPro_Hero_Tickets FROM Tickets WHERE \\\"Product Purchased\\\" = 'GoPro Hero'\"}\n",
            "\u001b[0m\u001b[95m \n",
            "\n",
            "[(228,)]\n",
            "\u001b[00m\n",
            "\u001b[32;1m\u001b[1;3mThought: I now have the raw data needed to answer the original question. The query has returned the count of GoPro Hero tickets.\n",
            "\n",
            "Final Answer: [(228,)]\n",
            "\n",
            "This raw data shows that there are 228 tickets related to the GoPro Hero product in our Support Tickets Database. This information directly answers the question \"How many tickets on the GoPro Hero have we got?\"\u001b[0m\n",
            "\n",
            "\u001b[1m> Finished chain.\u001b[0m\n",
            "\u001b[1m\u001b[92m [2024-09-03 17:41:00][DEBUG]: == [Senior Data Retriever] Task output: [(228,)]\n",
            "\n",
            "This raw data shows that there are 228 tickets related to the GoPro Hero product in our Support Tickets Database. This information directly answers the question \"How many tickets on the GoPro Hero have we got?\"\n",
            "\n",
            "\u001b[00m\n",
            "\u001b[1m\u001b[95m [2024-09-03 17:41:00][DEBUG]: == Working Agent: Internal Support Specialist\u001b[00m\n",
            "\u001b[1m\u001b[95m [2024-09-03 17:41:00][INFO]: == Starting Task: Based on the input \"How many tickets on the GoPro Hero have we got?\", formulate a satisfying answer to the employee. If it is a question and data was retrieved in the get_data_task, the answer should be 100 percent based on the available references, without making up any infomation. If you can't formulate an answer with the available data, or if the input is not a question, simply answer the user in the way you find appropriate.\n",
            "    \u001b[00m\n",
            "\n",
            "\n",
            "\u001b[1m> Entering new CrewAgentExecutor chain...\u001b[0m\n",
            "\u001b[32;1m\u001b[1;3mThought: The employee has asked about the number of tickets related to the GoPro Hero. I have the necessary information from the context provided, so I can directly answer this question without needing to use any additional tools.\n",
            "\n",
            "Thought: I now know the final answer\n",
            "\n",
            "Final Answer: We currently have 228 tickets related to the GoPro Hero in our Support Tickets Database. Is there anything specific about these tickets you'd like to know?\u001b[0m\n",
            "\n",
            "\u001b[1m> Finished chain.\u001b[0m\n",
            "\u001b[1m\u001b[92m [2024-09-03 17:41:05][DEBUG]: == [Internal Support Specialist] Task output: We currently have 228 tickets related to the GoPro Hero in our Support Tickets Database. Is there anything specific about these tickets you'd like to know?\n",
            "\n",
            "\u001b[00m\n"
          ]
        }
      ],
      "source": [
        "result = crew.kickoff(inputs={\"question\":\"How many tickets on the GoPro Hero have we got?\"})"
      ]
    },
    {
      "cell_type": "code",
      "execution_count": null,
      "metadata": {
        "id": "x0Ah9fKwqR1u",
        "outputId": "30554224-8f3c-467f-f080-e6f8cfb763b8"
      },
      "outputs": [
        {
          "name": "stdout",
          "output_type": "stream",
          "text": [
            "We currently have 228 tickets related to the GoPro Hero in our Support Tickets Database. Is there anything specific about these tickets you'd like to know?\n"
          ]
        }
      ],
      "source": [
        "print(result)"
      ]
    },
    {
      "cell_type": "code",
      "execution_count": null,
      "metadata": {
        "id": "_uPsVJJyqR1u",
        "outputId": "39826db5-887f-4b5e-b0b2-52e661a96901"
      },
      "outputs": [
        {
          "name": "stdout",
          "output_type": "stream",
          "text": [
            "\u001b[1m\u001b[95m [2024-09-03 17:50:00][DEBUG]: == Working Agent: Internal Support Specialist\u001b[00m\n",
            "\u001b[1m\u001b[95m [2024-09-03 17:50:00][INFO]: == Starting Task: Interpret the user's input: \"What to do if the user reports missing credits?\". Decide whether to pass the question to the data retriever to get references to answer the question or not. If the user's input is a valid question, output the question. If it isn't, and therefore the data retriever shouldn't be contacted, simply output an empty string.\n",
            "    \u001b[00m\n",
            "\n",
            "\n",
            "\u001b[1m> Entering new CrewAgentExecutor chain...\u001b[0m\n",
            "\u001b[32;1m\u001b[1;3mTo handle this task effectively, I need to determine if the user's input is a valid question that requires data retrieval or if it can be answered directly based on internal support knowledge.\n",
            "\n",
            "The input \"What to do if the user reports missing credits?\" is a valid question that likely requires specific procedural information or guidelines. This type of question would benefit from retrieving accurate data to ensure a proper response to the employee.\n",
            "\n",
            "Given that this is a valid question related to internal support processes, I should pass it to the data retriever to get references for answering the question.\n",
            "\n",
            "Thought: I now know the final answer\n",
            "Final Answer: What to do if the user reports missing credits?\u001b[0m\n",
            "\n",
            "\u001b[1m> Finished chain.\u001b[0m\n",
            "\u001b[93m Error parsing JSON: Expecting value: line 1 column 1 (char 0). Attempting to handle partial JSON.\u001b[00m\n",
            "\u001b[1m\u001b[92m [2024-09-03 17:50:11][DEBUG]: == [Internal Support Specialist] Task output: answer=\"If a user reports missing credits, follow these steps: 1) Verify the user's account and transaction history. 2) Check if the credits were properly applied to their account. 3) Investigate any potential system errors or delays. 4) If the credits are indeed missing, promptly credit the user's account with the correct amount. 5) Communicate with the user throughout the process, explaining the issue and resolution. 6) If it's a recurring problem, escalate to the technical team for further investigation. 7) Consider offering a goodwill gesture, such as extra credits, to maintain customer satisfaction. 8) Update the user's account notes with details of the incident and resolution.\"\n",
            "\n",
            "\u001b[00m\n",
            "\u001b[1m\u001b[95m [2024-09-03 17:50:11][DEBUG]: == Working Agent: Senior Data Retriever\u001b[00m\n",
            "\u001b[1m\u001b[95m [2024-09-03 17:50:11][INFO]: == Starting Task: Based on the question \"What to do if the user reports missing credits?\", decide where to find the data that can be used to answer the question and then retrieve it. The data sources you have access to are:\n",
            "    Support Tickets Database: A database containing information regarding recent or past customer support tickets, accessible through the SQL tools. Used only to query about tickets. Shouldn't be used to get information on how to deal with problems or situations.\n",
            "    Customer Support Manual: A PDF manual containing information on how to deal with common problems, common scenarios etc. Available through the PDF tool. Used for questions on how to deal with situations, what to do etc.\n",
            "    Best practice: Query the data source that is more likely to have information to answer the question first. If the results are already enough, do not query another data source, as to decrease the employee's waiting time.\n",
            "    \u001b[00m\n",
            "\n",
            "\n",
            "\u001b[1m> Entering new CrewAgentExecutor chain...\u001b[0m\n",
            "\u001b[32;1m\u001b[1;3mThought: The question \"What to do if the user reports missing credits?\" is asking about a procedure or guideline for handling a specific customer issue. This type of information is most likely to be found in the Customer Support Manual, which contains information on how to deal with common problems and scenarios. Therefore, I should start by querying the PDF tool.\n",
            "\n",
            "Action: SearchPDFTool\n",
            "Action Input: {\"question\": \"What to do if the user reports missing credits?\"}\n",
            "\u001b[0m\u001b[95m \n",
            "\n",
            "[Document(metadata={'source': 'manual.pdf', 'page': 12}, page_content='Escalation:  \\n- Persistent training issues should be escalated to the Machine Learning \\nEngineering team  \\n \\n3.9 Billing and Invoice Discrepancies  \\nDescription: Users report incorrect charges, missing credits, or unclear invoice \\nitems.  \\n \\nTroubleshooting steps:'), Document(metadata={'source': 'manual.pdf', 'page': 11}, page_content=\"Troubleshooting steps:  \\na) Identify the user's browser, version, and operating system  \\nb) Reproduce the issue in multiple environments  \\nc) Check for JavaScript console errors  \\nd) Review recent frontend deployments  \\ne) Verify CSS and asset loading  \\n \\nResolution:  \\n- Provide browser -specific troubleshooting steps (cache clearing, etc.)  \\n- Offer alternative browsers or versions known to work  \\n- Apply hotfixes for confirmed bugs  \\n \\nEscalation:  \\n- Report reproducible UI bugs to the Frontend Development team  \\n \\n3.7 Account Management Issues  \\nDescription: Users unable to modify account settings, add team members, or \\nadjust subscription plans.  \\n \\nTroubleshooting steps:  \\na) Verify user's account permissions and role  \\nb) Check for any account holds or payment issues  \\nc) Review recent changes to account management systems  \\nd) Confirm the specific action being attempted is allowed under the user's plan  \\n \\nResolution:\"), Document(metadata={'source': 'manual.pdf', 'page': 4}, page_content='6.4 Update CRM and Systems  \\n- Mark account as cancelled in all relevant systems  \\n- Update sales and marketing lists to prevent unnecessary contact  \\n \\n7. Feedback Loop  \\n \\n7.1 Internal Reporting  \\n- Compile weekly cancellation reason reports  \\n- Share insights with product, sales, and marketing teams  \\n \\n7.2 Trend Analysis  \\n- Monitor cancellation rates and reasons over time  \\n- Identify patterns that may indicate larger issues  \\n \\n7.3 Continuous Improvement  \\n- Participate in regular reviews of cancellation processes  \\n- Suggest improvements based on customer feedback and experiences  \\n \\n8. Special Considerations  \\n \\n8.1 High -Value Accounts  \\n- Involve account managers in retention efforts  \\n- Consider escalation to senior management for personalized offers  \\n \\n8.2 Long -Term Customers  \\n- Acknowledge their loyalty in communications  \\n- Offer \"alumni\" status with special reactivation terms  \\n \\n8.3 Public or High -Profile Clients'), Document(metadata={'source': 'manual.pdf', 'page': 13}, page_content=\"a) Review the user's usage logs and compare with invoiced amounts  \\nb) Check for any applied discounts or promotions  \\nc) Verify the correct subscription plan is applied to the account  \\nd) Confirm any recent plan changes or upgrades  \\n \\nResolution:  \\n- Explain each line item on the invoice in detail  \\n- Apply corrections or credits if errors are found  \\n- Provide a detailed usage report for the billing period  \\n \\nEscalation:  \\n- Complex billing issues or disputes should be escalated to the Finance team  \\n \\n3.10 API Rate Limiting Issues  \\nDescription: Users hit API rate limits unexpectedly or more frequently than \\nanticipated.  \\n \\nTroubleshooting steps:  \\na) Review the user's current API usage patterns  \\nb) Check if there have been any recent changes to rate limit policies  \\nc) Verify that the user is implementing proper rate limiting on their end  \\nd) Investigate any unusual spikes in API calls  \\n \\nResolution:  \\n- Explain current rate limit policies and reason for limits\")]\n",
            "\u001b[00m\n",
            "\u001b[32;1m\u001b[1;3mThought: The PDF tool has provided relevant information about handling billing and invoice discrepancies, which includes the case of missing credits. This information should be sufficient to answer the question without needing to query other data sources. I'll now provide the final answer with the raw data retrieved.\n",
            "\n",
            "Final Answer: Here's the raw data that can be used to answer the question \"What to do if the user reports missing credits?\":\n",
            "\n",
            "Description: Users report incorrect charges, missing credits, or unclear invoice \n",
            "items.  \n",
            " \n",
            "Troubleshooting steps:  \n",
            "a) Review the user's usage logs and compare with invoiced amounts  \n",
            "b) Check for any applied discounts or promotions  \n",
            "c) Verify the correct subscription plan is applied to the account  \n",
            "d) Confirm any recent plan changes or upgrades  \n",
            " \n",
            "Resolution:  \n",
            "- Explain each line item on the invoice in detail  \n",
            "- Apply corrections or credits if errors are found  \n",
            "- Provide a detailed usage report for the billing period  \n",
            " \n",
            "Escalation:  \n",
            "- Complex billing issues or disputes should be escalated to the Finance team  \n",
            "\n",
            "This information provides a step-by-step guide on how to handle cases of missing credits, including troubleshooting steps, resolution actions, and when to escalate the issue.\u001b[0m\n",
            "\n",
            "\u001b[1m> Finished chain.\u001b[0m\n",
            "\u001b[1m\u001b[92m [2024-09-03 17:50:23][DEBUG]: == [Senior Data Retriever] Task output: Here's the raw data that can be used to answer the question \"What to do if the user reports missing credits?\":\n",
            "\n",
            "Description: Users report incorrect charges, missing credits, or unclear invoice \n",
            "items.  \n",
            " \n",
            "Troubleshooting steps:  \n",
            "a) Review the user's usage logs and compare with invoiced amounts  \n",
            "b) Check for any applied discounts or promotions  \n",
            "c) Verify the correct subscription plan is applied to the account  \n",
            "d) Confirm any recent plan changes or upgrades  \n",
            " \n",
            "Resolution:  \n",
            "- Explain each line item on the invoice in detail  \n",
            "- Apply corrections or credits if errors are found  \n",
            "- Provide a detailed usage report for the billing period  \n",
            " \n",
            "Escalation:  \n",
            "- Complex billing issues or disputes should be escalated to the Finance team  \n",
            "\n",
            "This information provides a step-by-step guide on how to handle cases of missing credits, including troubleshooting steps, resolution actions, and when to escalate the issue.\n",
            "\n",
            "\u001b[00m\n",
            "\u001b[1m\u001b[95m [2024-09-03 17:50:23][DEBUG]: == Working Agent: Internal Support Specialist\u001b[00m\n",
            "\u001b[1m\u001b[95m [2024-09-03 17:50:23][INFO]: == Starting Task: Based on the input \"What to do if the user reports missing credits?\", formulate a satisfying answer to the employee. If it is a question and data was retrieved in the get_data_task, the answer should be 100 percent based on the available references, without making up any infomation. If you can't formulate an answer with the available data, or if the input is not a question, simply answer the user in the way you find appropriate.\n",
            "    \u001b[00m\n",
            "\n",
            "\n",
            "\u001b[1m> Entering new CrewAgentExecutor chain...\u001b[0m\n",
            "\u001b[32;1m\u001b[1;3mThought: I have all the necessary information to answer the employee's question about what to do if a user reports missing credits. I don't need to use any additional tools as the provided data is sufficient. I'll formulate a concise but sympathetic response based on the given information.\n",
            "\n",
            "Final Answer: If a user reports missing credits, here's what you should do:\n",
            "\n",
            "1. Start by reviewing the user's usage logs and compare them with the invoiced amounts. This will help identify any discrepancies.\n",
            "\n",
            "2. Check if there are any applied discounts or promotions that might affect the user's credit balance.\n",
            "\n",
            "3. Verify that the correct subscription plan is applied to the user's account.\n",
            "\n",
            "4. Confirm if there have been any recent plan changes or upgrades that could impact the credits.\n",
            "\n",
            "Once you've completed these steps, explain each line item on the invoice in detail to the user. If you find any errors, apply the necessary corrections or credits to the account. Additionally, provide the user with a detailed usage report for the billing period to help them understand their account activity.\n",
            "\n",
            "If the issue turns out to be complex or if there's a billing dispute that you can't resolve, escalate it to the Finance team for further assistance.\n",
            "\n",
            "Remember to be patient and understanding with the user throughout this process, as billing issues can be frustrating for them. If you need any additional support, don't hesitate to ask for help.\u001b[0m\n",
            "\n",
            "\u001b[1m> Finished chain.\u001b[0m\n",
            "\u001b[1m\u001b[92m [2024-09-03 17:50:32][DEBUG]: == [Internal Support Specialist] Task output: If a user reports missing credits, here's what you should do:\n",
            "\n",
            "1. Start by reviewing the user's usage logs and compare them with the invoiced amounts. This will help identify any discrepancies.\n",
            "\n",
            "2. Check if there are any applied discounts or promotions that might affect the user's credit balance.\n",
            "\n",
            "3. Verify that the correct subscription plan is applied to the user's account.\n",
            "\n",
            "4. Confirm if there have been any recent plan changes or upgrades that could impact the credits.\n",
            "\n",
            "Once you've completed these steps, explain each line item on the invoice in detail to the user. If you find any errors, apply the necessary corrections or credits to the account. Additionally, provide the user with a detailed usage report for the billing period to help them understand their account activity.\n",
            "\n",
            "If the issue turns out to be complex or if there's a billing dispute that you can't resolve, escalate it to the Finance team for further assistance.\n",
            "\n",
            "Remember to be patient and understanding with the user throughout this process, as billing issues can be frustrating for them. If you need any additional support, don't hesitate to ask for help.\n",
            "\n",
            "\u001b[00m\n"
          ]
        }
      ],
      "source": [
        "result = crew.kickoff(inputs={\"question\":\"What to do if the user reports missing credits?\"})"
      ]
    },
    {
      "cell_type": "code",
      "execution_count": null,
      "metadata": {
        "id": "PXSxv00nqR1v",
        "outputId": "5265aff8-14b4-4332-c83e-190c7b5342a3"
      },
      "outputs": [
        {
          "name": "stdout",
          "output_type": "stream",
          "text": [
            "If a user reports missing credits, here's what you should do:\n",
            "\n",
            "1. Start by reviewing the user's usage logs and compare them with the invoiced amounts. This will help identify any discrepancies.\n",
            "\n",
            "2. Check if there are any applied discounts or promotions that might affect the user's credit balance.\n",
            "\n",
            "3. Verify that the correct subscription plan is applied to the user's account.\n",
            "\n",
            "4. Confirm if there have been any recent plan changes or upgrades that could impact the credits.\n",
            "\n",
            "Once you've completed these steps, explain each line item on the invoice in detail to the user. If you find any errors, apply the necessary corrections or credits to the account. Additionally, provide the user with a detailed usage report for the billing period to help them understand their account activity.\n",
            "\n",
            "If the issue turns out to be complex or if there's a billing dispute that you can't resolve, escalate it to the Finance team for further assistance.\n",
            "\n",
            "Remember to be patient and understanding with the user throughout this process, as billing issues can be frustrating for them. If you need any additional support, don't hesitate to ask for help.\n"
          ]
        }
      ],
      "source": [
        "print(result)"
      ]
    }
  ],
  "metadata": {
    "kernelspec": {
      "display_name": "env",
      "language": "python",
      "name": "python3"
    },
    "language_info": {
      "codemirror_mode": {
        "name": "ipython",
        "version": 3
      },
      "file_extension": ".py",
      "mimetype": "text/x-python",
      "name": "python",
      "nbconvert_exporter": "python",
      "pygments_lexer": "ipython3",
      "version": "3.12.4"
    },
    "colab": {
      "provenance": []
    }
  },
  "nbformat": 4,
  "nbformat_minor": 0
}